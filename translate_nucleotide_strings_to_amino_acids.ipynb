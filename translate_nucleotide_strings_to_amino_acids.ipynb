{
  "nbformat": 4,
  "nbformat_minor": 0,
  "metadata": {
    "colab": {
      "name": "translate_nucleotide_strings_to_amino_acids.ipynb",
      "provenance": [],
      "collapsed_sections": [],
      "authorship_tag": "ABX9TyNULtZd2Jl+uC+p3A53Cb2V",
      "include_colab_link": true
    },
    "kernelspec": {
      "name": "python3",
      "display_name": "Python 3"
    },
    "language_info": {
      "name": "python"
    }
  },
  "cells": [
    {
      "cell_type": "markdown",
      "metadata": {
        "id": "view-in-github",
        "colab_type": "text"
      },
      "source": [
        "<a href=\"https://colab.research.google.com/github/khslsahan/DriveUse/blob/master/translate_nucleotide_strings_to_amino_acids.ipynb\" target=\"_parent\"><img src=\"https://colab.research.google.com/assets/colab-badge.svg\" alt=\"Open In Colab\"/></a>"
      ]
    },
    {
      "cell_type": "markdown",
      "source": [
        "##Write a program to do the conceptual translation. \n",
        "This program needs to translate from nucleotide \n",
        "strings to amino acids. It prints all three reading \n",
        "frames in the forward direction, skipping \n",
        "nucleotides at the beginning to produce the \n",
        "additional frames and ignoring nucleotides at the \n",
        "end that do not form a group of 3"
      ],
      "metadata": {
        "id": "iXmw4cHwm0ua"
      }
    },
    {
      "cell_type": "code",
      "source": [
        "  UU = { \"U\":\"Phe\" ,\"C\":\"Phe\" , \"A\":\"Leu\" , \"G\":\"Leu\"   }\n",
        "  UC = { \"U\":\"Ser\" ,\"C\":\"Ser\" , \"A\":\"Ser\" , \"G\":\"Ser\"   }\n",
        "  UA = { \"U\":\"Try\" ,\"C\":\"Try\" , \"A\":\"Stp\" , \"G\":\"Stp\"   }\n",
        "  UG = { \"U\":\"Cys\" ,\"C\":\"Cys\" , \"A\":\"Stp\" , \"G\":\"Trp\"   }\n",
        "       \n",
        "  CU = { \"U\":\"Leu\" ,\"C\":\"Leu\" , \"A\":\"Leu\" , \"G\":\"Leu\"   }\n",
        "  CC = { \"U\":\"Pro\" ,\"C\":\"Pro\" , \"A\":\"Pro\" , \"G\":\"Pro\"   }\n",
        "  CA = { \"U\":\"His\" ,\"C\":\"His\" , \"A\":\"Gln\" , \"G\":\"Gln\"   }\n",
        "  CG = { \"U\":\"Arg\" ,\"C\":\"Arg\" , \"A\":\"Arg\" , \"G\":\"Arg\"   }     \n",
        "\n",
        "  AU = { \"U\":\"Ile\" ,\"C\":\"Ile\" , \"A\":\"Ile\" , \"G\":\"Met\"   }\n",
        "  AC = { \"U\":\"Thr\" ,\"C\":\"Thr\" , \"A\":\"Thr\" , \"G\":\"Thr\"   }\n",
        "  AA = { \"U\":\"Asn\" ,\"C\":\"Asn\" , \"A\":\"Lys\" , \"G\":\"Lys\"   }\n",
        "  AG = { \"U\":\"Ser\" ,\"C\":\"Ser\" , \"A\":\"Arg\" , \"G\":\"Arg\"   }\n",
        "\n",
        "  GU = { \"U\":\"Val\" ,\"C\":\"Val\" , \"A\":\"Val\" , \"G\":\"Val\"   }\n",
        "  GC = { \"U\":\"Aal\" ,\"C\":\"Aal\" , \"A\":\"Aal\" , \"G\":\"Aal\"   }\n",
        "  GA = { \"U\":\"Asp\" ,\"C\":\"Asp\" , \"A\":\"Glu\" , \"G\":\"Glu\"   }\n",
        "  GG = { \"U\":\"Gly\" ,\"C\":\"Gly\" , \"A\":\"Gly\" , \"G\":\"Gly\"   }\n"
      ],
      "metadata": {
        "id": "r7XNzbdYm7MK"
      },
      "execution_count": null,
      "outputs": []
    },
    {
      "cell_type": "code",
      "source": [
        "U ={ \"U\": UU , \"C\":UC , \"A\": UA , \"G\": UG} \n",
        "C ={ \"U\": CU , \"C\":CC , \"A\": CA , \"G\": CG} \n",
        "A ={ \"U\": AU , \"C\":AC , \"A\": AA , \"G\": AG} \n",
        "G ={ \"U\": GU , \"C\":GC , \"A\": GA , \"G\": GG} "
      ],
      "metadata": {
        "id": "La_jnoIbm_ZL"
      },
      "execution_count": null,
      "outputs": []
    },
    {
      "cell_type": "code",
      "source": [
        "NUCLEIC = { \"U\" : U , \"C\": C , \"A\" : A , \"G\" : G }"
      ],
      "metadata": {
        "id": "JLhEmoEvoonA"
      },
      "execution_count": null,
      "outputs": []
    },
    {
      "cell_type": "code",
      "source": [
        "NUCLEIC[\"U\"][\"U\"][\"U\"]"
      ],
      "metadata": {
        "colab": {
          "base_uri": "https://localhost:8080/",
          "height": 35
        },
        "id": "W5IEdHxZpTXx",
        "outputId": "b59f3296-471f-47fd-b99c-bf18d53e8dab"
      },
      "execution_count": null,
      "outputs": [
        {
          "output_type": "execute_result",
          "data": {
            "application/vnd.google.colaboratory.intrinsic+json": {
              "type": "string"
            },
            "text/plain": [
              "'Phe'"
            ]
          },
          "metadata": {},
          "execution_count": 25
        }
      ]
    },
    {
      "cell_type": "code",
      "source": [
        " def get_amino(nuc) :\n",
        "   return NUCLEIC[nuc[0]][nuc[1]][nuc[2]]"
      ],
      "metadata": {
        "id": "YLwr1xk2tbQ2"
      },
      "execution_count": null,
      "outputs": []
    },
    {
      "cell_type": "code",
      "source": [
        "def get_amino_sequence_form_1(nucleotides):\n",
        "    amino_sequence =\"\"\n",
        "    for i in range(0 , (len(nucleotides)//3)):\n",
        "      amino_sequence +=get_amino(nucleotides[i*3:(i+1)*3]) + \"  \"\n",
        "    return amino_sequence "
      ],
      "metadata": {
        "id": "vjo3I4Gdu0R_"
      },
      "execution_count": null,
      "outputs": []
    },
    {
      "cell_type": "code",
      "source": [
        "def get_amino_sequence_form_2(nucleotides):\n",
        "    nucleotides = nucleotides[1:]\n",
        "    amino_sequence =\"\"\n",
        "    for i in range(0 , (len(nucleotides)//3)):\n",
        "      amino_sequence +=get_amino(nucleotides[i*3:(i+1)*3]) + \"  \"\n",
        "    return amino_sequence "
      ],
      "metadata": {
        "id": "6VcZNScK1KPO"
      },
      "execution_count": null,
      "outputs": []
    },
    {
      "cell_type": "code",
      "source": [
        "def get_amino_sequence_form_3(nucleotides):\n",
        "    nucleotides = nucleotides[2:]\n",
        "    amino_sequence =\"\"\n",
        "    for i in range(0 , (len(nucleotides)//3)):\n",
        "      amino_sequence +=get_amino(nucleotides[i*3:(i+1)*3]) + \"  \"\n",
        "    return amino_sequence "
      ],
      "metadata": {
        "id": "JivAiYtf1OZ1"
      },
      "execution_count": null,
      "outputs": []
    },
    {
      "cell_type": "code",
      "source": [
        "get_amino_sequence_form_1(\"UAAUGCAUAGGCUACUCUAG\")"
      ],
      "metadata": {
        "colab": {
          "base_uri": "https://localhost:8080/",
          "height": 35
        },
        "id": "NrDu_J761jbK",
        "outputId": "f2a20587-a7ea-4e3e-9193-da42a97f7fea"
      },
      "execution_count": null,
      "outputs": [
        {
          "output_type": "execute_result",
          "data": {
            "application/vnd.google.colaboratory.intrinsic+json": {
              "type": "string"
            },
            "text/plain": [
              "'Stp  Cys  Ile  Gly  Try  Ser  '"
            ]
          },
          "metadata": {},
          "execution_count": 71
        }
      ]
    },
    {
      "cell_type": "code",
      "source": [
        "get_amino_sequence_form_2(\"UAAUGCAUAGGCUACUCUAG\")"
      ],
      "metadata": {
        "colab": {
          "base_uri": "https://localhost:8080/",
          "height": 35
        },
        "id": "zypAw-_U1jB5",
        "outputId": "e5654049-37fd-49d0-9343-af05b45b8792"
      },
      "execution_count": null,
      "outputs": [
        {
          "output_type": "execute_result",
          "data": {
            "application/vnd.google.colaboratory.intrinsic+json": {
              "type": "string"
            },
            "text/plain": [
              "'Asn  Aal  Stp  Aal  Thr  Leu  '"
            ]
          },
          "metadata": {},
          "execution_count": 72
        }
      ]
    },
    {
      "cell_type": "code",
      "source": [
        "get_amino_sequence_form_3(\"UAAUGCAUAGGCUACUCUAG\")"
      ],
      "metadata": {
        "colab": {
          "base_uri": "https://localhost:8080/",
          "height": 35
        },
        "id": "RidccSE001J5",
        "outputId": "114b21b0-4fff-4aca-8ac4-503e5756a9c4"
      },
      "execution_count": null,
      "outputs": [
        {
          "output_type": "execute_result",
          "data": {
            "application/vnd.google.colaboratory.intrinsic+json": {
              "type": "string"
            },
            "text/plain": [
              "'Met  His  Arg  Leu  Leu  Stp  '"
            ]
          },
          "metadata": {},
          "execution_count": 73
        }
      ]
    },
    {
      "cell_type": "code",
      "source": [
        ""
      ],
      "metadata": {
        "id": "toqAIHg8zee3"
      },
      "execution_count": null,
      "outputs": []
    }
  ]
}